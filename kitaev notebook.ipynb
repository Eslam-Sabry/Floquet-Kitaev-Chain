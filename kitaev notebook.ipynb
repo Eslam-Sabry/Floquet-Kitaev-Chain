{
 "cells": [
  {
   "cell_type": "code",
   "execution_count": 1,
   "metadata": {},
   "outputs": [
    {
     "name": "stdout",
     "output_type": "stream",
     "text": [
      "hi\n"
     ]
    }
   ],
   "source": [
    "from kitaev import *"
   ]
  },
  {
   "cell_type": "code",
   "execution_count": 2,
   "metadata": {},
   "outputs": [
    {
     "name": "stderr",
     "output_type": "stream",
     "text": [
      " 10%|█         | 10/100 [05:27<49:08, 32.76s/it]\n"
     ]
    },
    {
     "ename": "KeyboardInterrupt",
     "evalue": "",
     "output_type": "error",
     "traceback": [
      "\u001b[1;31m---------------------------------------------------------------------------\u001b[0m",
      "\u001b[1;31mKeyboardInterrupt\u001b[0m                         Traceback (most recent call last)",
      "\u001b[1;32mc:\\Users\\Eslam\\Documents\\programming\\Python code\\Floquet-Kitaev-Chain\\kitaev notebook.ipynb Cell 2\u001b[0m in \u001b[0;36m<cell line: 15>\u001b[1;34m()\u001b[0m\n\u001b[0;32m     <a href='vscode-notebook-cell:/c%3A/Users/Eslam/Documents/programming/Python%20code/Floquet-Kitaev-Chain/kitaev%20notebook.ipynb#W2sZmlsZQ%3D%3D?line=12'>13</a>\u001b[0m G_pi_even \u001b[39m=\u001b[39m []\n\u001b[0;32m     <a href='vscode-notebook-cell:/c%3A/Users/Eslam/Documents/programming/Python%20code/Floquet-Kitaev-Chain/kitaev%20notebook.ipynb#W2sZmlsZQ%3D%3D?line=14'>15</a>\u001b[0m \u001b[39mfor\u001b[39;00m j \u001b[39min\u001b[39;00m tqdm(\u001b[39mrange\u001b[39m(\u001b[39mlen\u001b[39m(var_T))):\n\u001b[1;32m---> <a href='vscode-notebook-cell:/c%3A/Users/Eslam/Documents/programming/Python%20code/Floquet-Kitaev-Chain/kitaev%20notebook.ipynb#W2sZmlsZQ%3D%3D?line=15'>16</a>\u001b[0m     h_f \u001b[39m=\u001b[39m floquet_hamiltonian([h_1\u001b[39m.\u001b[39;49mlattice_hamiltonian(), h_2\u001b[39m.\u001b[39;49mlattice_hamiltonian()],T\u001b[39m=\u001b[39;49mvar_T[j])\n\u001b[0;32m     <a href='vscode-notebook-cell:/c%3A/Users/Eslam/Documents/programming/Python%20code/Floquet-Kitaev-Chain/kitaev%20notebook.ipynb#W2sZmlsZQ%3D%3D?line=16'>17</a>\u001b[0m     G_0_pos \u001b[39m=\u001b[39m np\u001b[39m.\u001b[39marray(la\u001b[39m.\u001b[39minv(( \u001b[39m0.00000000001\u001b[39m\u001b[39m*\u001b[39m\u001b[39m1\u001b[39mj)\u001b[39m*\u001b[39mnp\u001b[39m.\u001b[39meye(\u001b[39mlen\u001b[39m(h_f))\u001b[39m-\u001b[39mh_f))\n\u001b[0;32m     <a href='vscode-notebook-cell:/c%3A/Users/Eslam/Documents/programming/Python%20code/Floquet-Kitaev-Chain/kitaev%20notebook.ipynb#W2sZmlsZQ%3D%3D?line=17'>18</a>\u001b[0m     G_0_neg \u001b[39m=\u001b[39m np\u001b[39m.\u001b[39marray(la\u001b[39m.\u001b[39minv((\u001b[39m-\u001b[39m\u001b[39m0.00000000001\u001b[39m\u001b[39m*\u001b[39m\u001b[39m1\u001b[39mj)\u001b[39m*\u001b[39mnp\u001b[39m.\u001b[39meye(\u001b[39mlen\u001b[39m(h_f))\u001b[39m-\u001b[39mh_f))\n",
      "File \u001b[1;32mc:\\Users\\Eslam\\Documents\\programming\\Python code\\Floquet-Kitaev-Chain\\floquet.py:27\u001b[0m, in \u001b[0;36mfloquet_hamiltonian\u001b[1;34m(hamiltonians, T, n)\u001b[0m\n\u001b[0;32m     26\u001b[0m \u001b[39mdef\u001b[39;00m \u001b[39mfloquet_hamiltonian\u001b[39m(hamiltonians,T,n\u001b[39m=\u001b[39m\u001b[39mNone\u001b[39;00m):\n\u001b[1;32m---> 27\u001b[0m     u_T \u001b[39m=\u001b[39m one_period_propagator(hamiltonians,T,n)\n\u001b[0;32m     28\u001b[0m     \u001b[39meval\u001b[39m, evec\u001b[39m=\u001b[39m la\u001b[39m.\u001b[39meig(u_T)\n\u001b[0;32m     29\u001b[0m     h_f1 \u001b[39m=\u001b[39mevec \u001b[39m@\u001b[39m np\u001b[39m.\u001b[39mdiag(np\u001b[39m.\u001b[39mlog(\u001b[39meval\u001b[39m)\u001b[39m*\u001b[39m\u001b[39m1\u001b[39mj\u001b[39m/\u001b[39mnp\u001b[39m.\u001b[39mpi) \u001b[39m@\u001b[39m la\u001b[39m.\u001b[39minv(evec)\n",
      "File \u001b[1;32mc:\\Users\\Eslam\\Documents\\programming\\Python code\\Floquet-Kitaev-Chain\\floquet.py:18\u001b[0m, in \u001b[0;36mone_period_propagator\u001b[1;34m(hamiltonians, T, n)\u001b[0m\n\u001b[0;32m     16\u001b[0m \u001b[39mif\u001b[39;00m \u001b[39misinstance\u001b[39m(hamiltonians, \u001b[39mlist\u001b[39m):\n\u001b[0;32m     17\u001b[0m     num \u001b[39m=\u001b[39m \u001b[39mlen\u001b[39m(hamiltonians)\n\u001b[1;32m---> 18\u001b[0m     exps \u001b[39m=\u001b[39m [sla\u001b[39m.\u001b[39mexpm(\u001b[39m-\u001b[39m\u001b[39m1\u001b[39mj \u001b[39m*\u001b[39m h \u001b[39m*\u001b[39m T \u001b[39m/\u001b[39m num) \u001b[39mfor\u001b[39;00m h \u001b[39min\u001b[39;00m hamiltonians]\n\u001b[0;32m     19\u001b[0m     \u001b[39mreturn\u001b[39;00m reduce(np\u001b[39m.\u001b[39mmatmul, exps)\n\u001b[0;32m     21\u001b[0m \u001b[39melif\u001b[39;00m callable(hamiltonians):\n",
      "File \u001b[1;32mc:\\Users\\Eslam\\Documents\\programming\\Python code\\Floquet-Kitaev-Chain\\floquet.py:18\u001b[0m, in \u001b[0;36m<listcomp>\u001b[1;34m(.0)\u001b[0m\n\u001b[0;32m     16\u001b[0m \u001b[39mif\u001b[39;00m \u001b[39misinstance\u001b[39m(hamiltonians, \u001b[39mlist\u001b[39m):\n\u001b[0;32m     17\u001b[0m     num \u001b[39m=\u001b[39m \u001b[39mlen\u001b[39m(hamiltonians)\n\u001b[1;32m---> 18\u001b[0m     exps \u001b[39m=\u001b[39m [sla\u001b[39m.\u001b[39;49mexpm(\u001b[39m-\u001b[39;49m\u001b[39m1\u001b[39;49mj \u001b[39m*\u001b[39;49m h \u001b[39m*\u001b[39;49m T \u001b[39m/\u001b[39;49m num) \u001b[39mfor\u001b[39;00m h \u001b[39min\u001b[39;00m hamiltonians]\n\u001b[0;32m     19\u001b[0m     \u001b[39mreturn\u001b[39;00m reduce(np\u001b[39m.\u001b[39mmatmul, exps)\n\u001b[0;32m     21\u001b[0m \u001b[39melif\u001b[39;00m callable(hamiltonians):\n",
      "File \u001b[1;32m~\\AppData\\Local\\Packages\\PythonSoftwareFoundation.Python.3.10_qbz5n2kfra8p0\\LocalCache\\local-packages\\Python310\\site-packages\\scipy\\linalg\\_matfuncs.py:255\u001b[0m, in \u001b[0;36mexpm\u001b[1;34m(A)\u001b[0m\n\u001b[0;32m    253\u001b[0m \u001b[39m# Input checking and conversion is provided by sparse.linalg.expm().\u001b[39;00m\n\u001b[0;32m    254\u001b[0m \u001b[39mimport\u001b[39;00m \u001b[39mscipy\u001b[39;00m\u001b[39m.\u001b[39;00m\u001b[39msparse\u001b[39;00m\u001b[39m.\u001b[39;00m\u001b[39mlinalg\u001b[39;00m\n\u001b[1;32m--> 255\u001b[0m \u001b[39mreturn\u001b[39;00m scipy\u001b[39m.\u001b[39;49msparse\u001b[39m.\u001b[39;49mlinalg\u001b[39m.\u001b[39;49mexpm(A)\n",
      "File \u001b[1;32m~\\AppData\\Local\\Packages\\PythonSoftwareFoundation.Python.3.10_qbz5n2kfra8p0\\LocalCache\\local-packages\\Python310\\site-packages\\scipy\\sparse\\linalg\\_matfuncs.py:590\u001b[0m, in \u001b[0;36mexpm\u001b[1;34m(A)\u001b[0m\n\u001b[0;32m    545\u001b[0m \u001b[39mdef\u001b[39;00m \u001b[39mexpm\u001b[39m(A):\n\u001b[0;32m    546\u001b[0m     \u001b[39m\"\"\"\u001b[39;00m\n\u001b[0;32m    547\u001b[0m \u001b[39m    Compute the matrix exponential using Pade approximation.\u001b[39;00m\n\u001b[0;32m    548\u001b[0m \n\u001b[1;32m   (...)\u001b[0m\n\u001b[0;32m    588\u001b[0m \u001b[39m           [  0.        ,   0.        ,  20.08553692]])\u001b[39;00m\n\u001b[0;32m    589\u001b[0m \u001b[39m    \"\"\"\u001b[39;00m\n\u001b[1;32m--> 590\u001b[0m     \u001b[39mreturn\u001b[39;00m _expm(A, use_exact_onenorm\u001b[39m=\u001b[39;49m\u001b[39m'\u001b[39;49m\u001b[39mauto\u001b[39;49m\u001b[39m'\u001b[39;49m)\n",
      "File \u001b[1;32m~\\AppData\\Local\\Packages\\PythonSoftwareFoundation.Python.3.10_qbz5n2kfra8p0\\LocalCache\\local-packages\\Python310\\site-packages\\scipy\\sparse\\linalg\\_matfuncs.py:656\u001b[0m, in \u001b[0;36m_expm\u001b[1;34m(A, use_exact_onenorm)\u001b[0m\n\u001b[0;32m    654\u001b[0m     \u001b[39mreturn\u001b[39;00m _solve_P_Q(U, V, structure\u001b[39m=\u001b[39mstructure)\n\u001b[0;32m    655\u001b[0m \u001b[39mif\u001b[39;00m eta_3 \u001b[39m<\u001b[39m \u001b[39m2.097847961257068e+000\u001b[39m \u001b[39mand\u001b[39;00m _ell(h\u001b[39m.\u001b[39mA, \u001b[39m9\u001b[39m) \u001b[39m==\u001b[39m \u001b[39m0\u001b[39m:\n\u001b[1;32m--> 656\u001b[0m     U, V \u001b[39m=\u001b[39m h\u001b[39m.\u001b[39;49mpade9()\n\u001b[0;32m    657\u001b[0m     \u001b[39mreturn\u001b[39;00m _solve_P_Q(U, V, structure\u001b[39m=\u001b[39mstructure)\n\u001b[0;32m    659\u001b[0m \u001b[39m# Use Pade order 13.\u001b[39;00m\n",
      "File \u001b[1;32m~\\AppData\\Local\\Packages\\PythonSoftwareFoundation.Python.3.10_qbz5n2kfra8p0\\LocalCache\\local-packages\\Python310\\site-packages\\scipy\\sparse\\linalg\\_matfuncs.py:515\u001b[0m, in \u001b[0;36m_ExpmPadeHelper.pade9\u001b[1;34m(self)\u001b[0m\n\u001b[0;32m    511\u001b[0m \u001b[39mdef\u001b[39;00m \u001b[39mpade9\u001b[39m(\u001b[39mself\u001b[39m):\n\u001b[0;32m    512\u001b[0m     b \u001b[39m=\u001b[39m (\u001b[39m17643225600.\u001b[39m, \u001b[39m8821612800.\u001b[39m, \u001b[39m2075673600.\u001b[39m, \u001b[39m302702400.\u001b[39m, \u001b[39m30270240.\u001b[39m,\n\u001b[0;32m    513\u001b[0m             \u001b[39m2162160.\u001b[39m, \u001b[39m110880.\u001b[39m, \u001b[39m3960.\u001b[39m, \u001b[39m90.\u001b[39m, \u001b[39m1.\u001b[39m)\n\u001b[0;32m    514\u001b[0m     U \u001b[39m=\u001b[39m _smart_matrix_product(\u001b[39mself\u001b[39m\u001b[39m.\u001b[39mA,\n\u001b[1;32m--> 515\u001b[0m             (b[\u001b[39m9\u001b[39m]\u001b[39m*\u001b[39m\u001b[39mself\u001b[39;49m\u001b[39m.\u001b[39;49mA8 \u001b[39m+\u001b[39m b[\u001b[39m7\u001b[39m]\u001b[39m*\u001b[39m\u001b[39mself\u001b[39m\u001b[39m.\u001b[39mA6 \u001b[39m+\u001b[39m b[\u001b[39m5\u001b[39m]\u001b[39m*\u001b[39m\u001b[39mself\u001b[39m\u001b[39m.\u001b[39mA4 \u001b[39m+\u001b[39m\n\u001b[0;32m    516\u001b[0m                 b[\u001b[39m3\u001b[39m]\u001b[39m*\u001b[39m\u001b[39mself\u001b[39m\u001b[39m.\u001b[39mA2 \u001b[39m+\u001b[39m b[\u001b[39m1\u001b[39m]\u001b[39m*\u001b[39m\u001b[39mself\u001b[39m\u001b[39m.\u001b[39mident),\n\u001b[0;32m    517\u001b[0m             structure\u001b[39m=\u001b[39m\u001b[39mself\u001b[39m\u001b[39m.\u001b[39mstructure)\n\u001b[0;32m    518\u001b[0m     V \u001b[39m=\u001b[39m (b[\u001b[39m8\u001b[39m]\u001b[39m*\u001b[39m\u001b[39mself\u001b[39m\u001b[39m.\u001b[39mA8 \u001b[39m+\u001b[39m b[\u001b[39m6\u001b[39m]\u001b[39m*\u001b[39m\u001b[39mself\u001b[39m\u001b[39m.\u001b[39mA6 \u001b[39m+\u001b[39m b[\u001b[39m4\u001b[39m]\u001b[39m*\u001b[39m\u001b[39mself\u001b[39m\u001b[39m.\u001b[39mA4 \u001b[39m+\u001b[39m\n\u001b[0;32m    519\u001b[0m             b[\u001b[39m2\u001b[39m]\u001b[39m*\u001b[39m\u001b[39mself\u001b[39m\u001b[39m.\u001b[39mA2 \u001b[39m+\u001b[39m b[\u001b[39m0\u001b[39m]\u001b[39m*\u001b[39m\u001b[39mself\u001b[39m\u001b[39m.\u001b[39mident)\n\u001b[0;32m    520\u001b[0m     \u001b[39mreturn\u001b[39;00m U, V\n",
      "File \u001b[1;32m~\\AppData\\Local\\Packages\\PythonSoftwareFoundation.Python.3.10_qbz5n2kfra8p0\\LocalCache\\local-packages\\Python310\\site-packages\\scipy\\sparse\\linalg\\_matfuncs.py:404\u001b[0m, in \u001b[0;36m_ExpmPadeHelper.A8\u001b[1;34m(self)\u001b[0m\n\u001b[0;32m    401\u001b[0m \u001b[39m@property\u001b[39m\n\u001b[0;32m    402\u001b[0m \u001b[39mdef\u001b[39;00m \u001b[39mA8\u001b[39m(\u001b[39mself\u001b[39m):\n\u001b[0;32m    403\u001b[0m     \u001b[39mif\u001b[39;00m \u001b[39mself\u001b[39m\u001b[39m.\u001b[39m_A8 \u001b[39mis\u001b[39;00m \u001b[39mNone\u001b[39;00m:\n\u001b[1;32m--> 404\u001b[0m         \u001b[39mself\u001b[39m\u001b[39m.\u001b[39m_A8 \u001b[39m=\u001b[39m _smart_matrix_product(\n\u001b[0;32m    405\u001b[0m                 \u001b[39mself\u001b[39;49m\u001b[39m.\u001b[39;49mA6, \u001b[39mself\u001b[39;49m\u001b[39m.\u001b[39;49mA2, structure\u001b[39m=\u001b[39;49m\u001b[39mself\u001b[39;49m\u001b[39m.\u001b[39;49mstructure)\n\u001b[0;32m    406\u001b[0m     \u001b[39mreturn\u001b[39;00m \u001b[39mself\u001b[39m\u001b[39m.\u001b[39m_A8\n",
      "File \u001b[1;32m~\\AppData\\Local\\Packages\\PythonSoftwareFoundation.Python.3.10_qbz5n2kfra8p0\\LocalCache\\local-packages\\Python310\\site-packages\\scipy\\sparse\\linalg\\_matfuncs.py:164\u001b[0m, in \u001b[0;36m_smart_matrix_product\u001b[1;34m(A, B, alpha, structure)\u001b[0m\n\u001b[0;32m    162\u001b[0m \u001b[39melse\u001b[39;00m:\n\u001b[0;32m    163\u001b[0m     \u001b[39mif\u001b[39;00m alpha \u001b[39mis\u001b[39;00m \u001b[39mNone\u001b[39;00m:\n\u001b[1;32m--> 164\u001b[0m         out \u001b[39m=\u001b[39m A\u001b[39m.\u001b[39;49mdot(B)\n\u001b[0;32m    165\u001b[0m     \u001b[39melse\u001b[39;00m:\n\u001b[0;32m    166\u001b[0m         out \u001b[39m=\u001b[39m alpha \u001b[39m*\u001b[39m A\u001b[39m.\u001b[39mdot(B)\n",
      "\u001b[1;31mKeyboardInterrupt\u001b[0m: "
     ]
    }
   ],
   "source": [
    "N = 1000\n",
    "#index = np.arange(0.5*N)\n",
    "trace_cutoff = int(0.5*N)\n",
    "h_1 = Hamiltonian(d,N,onsite(mu=0*t),offsite(delta=Delta))\n",
    "h_2 = Hamiltonian(d,N,onsite(mu=1*t),offsite(delta=Delta))\n",
    "chiral_operator = Hamiltonian(d,N,s_x,np.zeros((d,d))).lattice_hamiltonian()\n",
    "var_T = np.linspace(0.2 / t, 5 / t, 100)\n",
    "var_E = np.linspace(-2,2,100)\n",
    "x, y = np.meshgrid(var_T, var_E)\n",
    "G_0_odd = []\n",
    "G_0_even = []\n",
    "G_pi_odd = []\n",
    "G_pi_even = []\n",
    "\n",
    "for j in tqdm(range(len(var_T))):\n",
    "    h_f = floquet_hamiltonian([h_1.lattice_hamiltonian(), h_2.lattice_hamiltonian()],T=var_T[j])\n",
    "    G_0_pos = np.array(la.inv(( 0.00000000001*1j)*np.eye(len(h_f))-h_f))\n",
    "    G_0_neg = np.array(la.inv((-0.00000000001*1j)*np.eye(len(h_f))-h_f))\n",
    "    G_0_odd.append((G_0_pos - G_0_neg)/2)\n",
    "    G_0_even.append((G_0_pos + G_0_neg)/2)\n",
    "\n",
    "    G_pi_pos = np.array(la.inv((1+0.00000000001*1j)*np.eye(len(h_f))-h_f))\n",
    "    G_pi_neg = np.array(la.inv((- 1-0.00000000001*1j)*np.eye(len(h_f))-h_f))\n",
    "    G_pi_odd.append((G_pi_pos - G_pi_neg)/2)\n",
    "    G_pi_even.append((G_pi_pos + G_pi_neg)/2)"
   ]
  },
  {
   "cell_type": "code",
   "execution_count": 3,
   "metadata": {},
   "outputs": [
    {
     "name": "stdout",
     "output_type": "stream",
     "text": [
      "10\n"
     ]
    }
   ],
   "source": [
    "\"\"\"G_0_odd = np.array(G_0_odd)\n",
    "G_0_even = np.array(G_0_even)\n",
    "G_pi_odd = np.array(G_pi_odd)\n",
    "G_pi_even = np.array(G_pi_even)\n",
    "\"\"\"\n",
    "f_0_odd = [(G_0_odd[i][0,1]) for i in range(len(G_0_odd))]\n",
    "f_0_even = [(G_0_even[i][0,1]) for i in range(len(G_0_even))]\n",
    "f_pi_odd = [(G_pi_odd[i][0,1]) for i in range(len(G_pi_odd))]\n",
    "f_pi_even = [(G_pi_even[i][0,1]) for i in range(len(G_pi_even))]\n",
    "print(len(G_0_odd))"
   ]
  },
  {
   "cell_type": "code",
   "execution_count": 4,
   "metadata": {},
   "outputs": [
    {
     "ename": "ValueError",
     "evalue": "x and y must have same first dimension, but have shapes (100,) and (10,)",
     "output_type": "error",
     "traceback": [
      "\u001b[1;31m---------------------------------------------------------------------------\u001b[0m",
      "\u001b[1;31mValueError\u001b[0m                                Traceback (most recent call last)",
      "\u001b[1;32mc:\\Users\\Eslam\\Documents\\programming\\Python code\\Floquet-Kitaev-Chain\\kitaev notebook.ipynb Cell 4\u001b[0m in \u001b[0;36m<cell line: 2>\u001b[1;34m()\u001b[0m\n\u001b[0;32m      <a href='vscode-notebook-cell:/c%3A/Users/Eslam/Documents/programming/Python%20code/Floquet-Kitaev-Chain/kitaev%20notebook.ipynb#W4sZmlsZQ%3D%3D?line=0'>1</a>\u001b[0m plt\u001b[39m.\u001b[39mtitle(\u001b[39m\"\u001b[39m\u001b[39medge odd-w pairing at 0 energy of finite Kitaev chain \u001b[39m\u001b[39m\"\u001b[39m)\n\u001b[1;32m----> <a href='vscode-notebook-cell:/c%3A/Users/Eslam/Documents/programming/Python%20code/Floquet-Kitaev-Chain/kitaev%20notebook.ipynb#W4sZmlsZQ%3D%3D?line=1'>2</a>\u001b[0m plt\u001b[39m.\u001b[39;49mplot(var_T,f_0_odd)\n\u001b[0;32m      <a href='vscode-notebook-cell:/c%3A/Users/Eslam/Documents/programming/Python%20code/Floquet-Kitaev-Chain/kitaev%20notebook.ipynb#W4sZmlsZQ%3D%3D?line=4'>5</a>\u001b[0m plt\u001b[39m.\u001b[39mylabel(\u001b[39m'\u001b[39m\u001b[39modd-w amplitude\u001b[39m\u001b[39m'\u001b[39m)\n\u001b[0;32m      <a href='vscode-notebook-cell:/c%3A/Users/Eslam/Documents/programming/Python%20code/Floquet-Kitaev-Chain/kitaev%20notebook.ipynb#W4sZmlsZQ%3D%3D?line=5'>6</a>\u001b[0m plt\u001b[39m.\u001b[39mxlabel(\u001b[39m'\u001b[39m\u001b[39m$period$\u001b[39m\u001b[39m'\u001b[39m)\n",
      "File \u001b[1;32m~\\AppData\\Local\\Packages\\PythonSoftwareFoundation.Python.3.10_qbz5n2kfra8p0\\LocalCache\\local-packages\\Python310\\site-packages\\matplotlib\\pyplot.py:2757\u001b[0m, in \u001b[0;36mplot\u001b[1;34m(scalex, scaley, data, *args, **kwargs)\u001b[0m\n\u001b[0;32m   2755\u001b[0m \u001b[39m@_copy_docstring_and_deprecators\u001b[39m(Axes\u001b[39m.\u001b[39mplot)\n\u001b[0;32m   2756\u001b[0m \u001b[39mdef\u001b[39;00m \u001b[39mplot\u001b[39m(\u001b[39m*\u001b[39margs, scalex\u001b[39m=\u001b[39m\u001b[39mTrue\u001b[39;00m, scaley\u001b[39m=\u001b[39m\u001b[39mTrue\u001b[39;00m, data\u001b[39m=\u001b[39m\u001b[39mNone\u001b[39;00m, \u001b[39m*\u001b[39m\u001b[39m*\u001b[39mkwargs):\n\u001b[1;32m-> 2757\u001b[0m     \u001b[39mreturn\u001b[39;00m gca()\u001b[39m.\u001b[39mplot(\n\u001b[0;32m   2758\u001b[0m         \u001b[39m*\u001b[39margs, scalex\u001b[39m=\u001b[39mscalex, scaley\u001b[39m=\u001b[39mscaley,\n\u001b[0;32m   2759\u001b[0m         \u001b[39m*\u001b[39m\u001b[39m*\u001b[39m({\u001b[39m\"\u001b[39m\u001b[39mdata\u001b[39m\u001b[39m\"\u001b[39m: data} \u001b[39mif\u001b[39;00m data \u001b[39mis\u001b[39;00m \u001b[39mnot\u001b[39;00m \u001b[39mNone\u001b[39;00m \u001b[39melse\u001b[39;00m {}), \u001b[39m*\u001b[39m\u001b[39m*\u001b[39mkwargs)\n",
      "File \u001b[1;32m~\\AppData\\Local\\Packages\\PythonSoftwareFoundation.Python.3.10_qbz5n2kfra8p0\\LocalCache\\local-packages\\Python310\\site-packages\\matplotlib\\axes\\_axes.py:1632\u001b[0m, in \u001b[0;36mAxes.plot\u001b[1;34m(self, scalex, scaley, data, *args, **kwargs)\u001b[0m\n\u001b[0;32m   1390\u001b[0m \u001b[39m\"\"\"\u001b[39;00m\n\u001b[0;32m   1391\u001b[0m \u001b[39mPlot y versus x as lines and/or markers.\u001b[39;00m\n\u001b[0;32m   1392\u001b[0m \n\u001b[1;32m   (...)\u001b[0m\n\u001b[0;32m   1629\u001b[0m \u001b[39m(``'green'``) or hex strings (``'#008000'``).\u001b[39;00m\n\u001b[0;32m   1630\u001b[0m \u001b[39m\"\"\"\u001b[39;00m\n\u001b[0;32m   1631\u001b[0m kwargs \u001b[39m=\u001b[39m cbook\u001b[39m.\u001b[39mnormalize_kwargs(kwargs, mlines\u001b[39m.\u001b[39mLine2D)\n\u001b[1;32m-> 1632\u001b[0m lines \u001b[39m=\u001b[39m [\u001b[39m*\u001b[39m\u001b[39mself\u001b[39m\u001b[39m.\u001b[39m_get_lines(\u001b[39m*\u001b[39margs, data\u001b[39m=\u001b[39mdata, \u001b[39m*\u001b[39m\u001b[39m*\u001b[39mkwargs)]\n\u001b[0;32m   1633\u001b[0m \u001b[39mfor\u001b[39;00m line \u001b[39min\u001b[39;00m lines:\n\u001b[0;32m   1634\u001b[0m     \u001b[39mself\u001b[39m\u001b[39m.\u001b[39madd_line(line)\n",
      "File \u001b[1;32m~\\AppData\\Local\\Packages\\PythonSoftwareFoundation.Python.3.10_qbz5n2kfra8p0\\LocalCache\\local-packages\\Python310\\site-packages\\matplotlib\\axes\\_base.py:312\u001b[0m, in \u001b[0;36m_process_plot_var_args.__call__\u001b[1;34m(self, data, *args, **kwargs)\u001b[0m\n\u001b[0;32m    310\u001b[0m     this \u001b[39m+\u001b[39m\u001b[39m=\u001b[39m args[\u001b[39m0\u001b[39m],\n\u001b[0;32m    311\u001b[0m     args \u001b[39m=\u001b[39m args[\u001b[39m1\u001b[39m:]\n\u001b[1;32m--> 312\u001b[0m \u001b[39myield from\u001b[39;00m \u001b[39mself\u001b[39;49m\u001b[39m.\u001b[39;49m_plot_args(this, kwargs)\n",
      "File \u001b[1;32m~\\AppData\\Local\\Packages\\PythonSoftwareFoundation.Python.3.10_qbz5n2kfra8p0\\LocalCache\\local-packages\\Python310\\site-packages\\matplotlib\\axes\\_base.py:498\u001b[0m, in \u001b[0;36m_process_plot_var_args._plot_args\u001b[1;34m(self, tup, kwargs, return_kwargs)\u001b[0m\n\u001b[0;32m    495\u001b[0m     \u001b[39mself\u001b[39m\u001b[39m.\u001b[39maxes\u001b[39m.\u001b[39myaxis\u001b[39m.\u001b[39mupdate_units(y)\n\u001b[0;32m    497\u001b[0m \u001b[39mif\u001b[39;00m x\u001b[39m.\u001b[39mshape[\u001b[39m0\u001b[39m] \u001b[39m!=\u001b[39m y\u001b[39m.\u001b[39mshape[\u001b[39m0\u001b[39m]:\n\u001b[1;32m--> 498\u001b[0m     \u001b[39mraise\u001b[39;00m \u001b[39mValueError\u001b[39;00m(\u001b[39mf\u001b[39m\u001b[39m\"\u001b[39m\u001b[39mx and y must have same first dimension, but \u001b[39m\u001b[39m\"\u001b[39m\n\u001b[0;32m    499\u001b[0m                      \u001b[39mf\u001b[39m\u001b[39m\"\u001b[39m\u001b[39mhave shapes \u001b[39m\u001b[39m{\u001b[39;00mx\u001b[39m.\u001b[39mshape\u001b[39m}\u001b[39;00m\u001b[39m and \u001b[39m\u001b[39m{\u001b[39;00my\u001b[39m.\u001b[39mshape\u001b[39m}\u001b[39;00m\u001b[39m\"\u001b[39m)\n\u001b[0;32m    500\u001b[0m \u001b[39mif\u001b[39;00m x\u001b[39m.\u001b[39mndim \u001b[39m>\u001b[39m \u001b[39m2\u001b[39m \u001b[39mor\u001b[39;00m y\u001b[39m.\u001b[39mndim \u001b[39m>\u001b[39m \u001b[39m2\u001b[39m:\n\u001b[0;32m    501\u001b[0m     \u001b[39mraise\u001b[39;00m \u001b[39mValueError\u001b[39;00m(\u001b[39mf\u001b[39m\u001b[39m\"\u001b[39m\u001b[39mx and y can be no greater than 2D, but have \u001b[39m\u001b[39m\"\u001b[39m\n\u001b[0;32m    502\u001b[0m                      \u001b[39mf\u001b[39m\u001b[39m\"\u001b[39m\u001b[39mshapes \u001b[39m\u001b[39m{\u001b[39;00mx\u001b[39m.\u001b[39mshape\u001b[39m}\u001b[39;00m\u001b[39m and \u001b[39m\u001b[39m{\u001b[39;00my\u001b[39m.\u001b[39mshape\u001b[39m}\u001b[39;00m\u001b[39m\"\u001b[39m)\n",
      "\u001b[1;31mValueError\u001b[0m: x and y must have same first dimension, but have shapes (100,) and (10,)"
     ]
    },
    {
     "data": {
      "image/png": "[encoded data removed]",
      "text/plain": [
       "<Figure size 1440x720 with 1 Axes>"
      ]
     },
     "metadata": {},
     "output_type": "display_data"
    }
   ],
   "source": [
    "plt.title(\"edge odd-w pairing at 0 energy of finite Kitaev chain \")\n",
    "plt.plot(var_T,f_0_odd)\n",
    "\n",
    "\n",
    "plt.ylabel('odd-w amplitude')\n",
    "plt.xlabel('$period$')\n",
    "#plt.yscale('log')\n",
    "plt.legend()\n",
    "plt.show()"
   ]
  },
  {
   "cell_type": "code",
   "execution_count": null,
   "metadata": {},
   "outputs": [],
   "source": [
    "plt.title(\"edge odd-w pairing at pi energy of finite Kitaev chain \")\n",
    "plt.plot(var_T,f_pi_odd)\n",
    "\n",
    "\n",
    "plt.ylabel('odd-w amplitude')\n",
    "plt.xlabel('$period$')\n",
    "#plt.yscale('log')\n",
    "plt.legend()\n",
    "plt.show()"
   ]
  },
  {
   "cell_type": "code",
   "execution_count": null,
   "metadata": {},
   "outputs": [],
   "source": [
    "plt.title(\"edge even-w pairing at zero energy of finite Kitaev chain \")\n",
    "plt.plot(var_T,f_0_even)\n",
    "\n",
    "\n",
    "plt.ylabel('even-w amplitude')\n",
    "plt.xlabel('$period$')\n",
    "#plt.yscale('log')\n",
    "plt.legend()\n",
    "plt.show()"
   ]
  },
  {
   "cell_type": "code",
   "execution_count": null,
   "metadata": {},
   "outputs": [],
   "source": [
    "plt.title(\"edge even-w pairing at pi energy of finite Kitaev chain \")\n",
    "plt.plot(var_T,f_pi_even)\n",
    "\n",
    "\n",
    "plt.ylabel('even-w amplitude')\n",
    "plt.xlabel('$period$')\n",
    "#plt.yscale('log')\n",
    "plt.legend()\n",
    "plt.show()"
   ]
  },
  {
   "cell_type": "code",
   "execution_count": null,
   "metadata": {},
   "outputs": [],
   "source": [
    "plt.title(\"edge odd-w/even-w pairing at zero energy of finite Kitaev chain \")\n",
    "plt.plot(var_T,[f_0_odd[i]/f_0_even[i] for i in range(len(f_0_odd))])\n",
    "\n",
    "\n",
    "plt.ylabel('ratio: odd/even')\n",
    "plt.xlabel('$period$')\n",
    "#plt.yscale('log')\n",
    "plt.legend()\n",
    "plt.show()"
   ]
  },
  {
   "cell_type": "code",
   "execution_count": null,
   "metadata": {},
   "outputs": [],
   "source": [
    "plt.title(\"edge odd-w/even-w pairing at pi energy of finite Kitaev chain \")\n",
    "plt.plot(var_T,[f_pi_odd[i]/f_pi_even[i] for i in range(len(f_0_odd))])\n",
    "\n",
    "\n",
    "plt.ylabel('ratio: odd/even')\n",
    "plt.xlabel('$period$')\n",
    "#plt.yscale('log')\n",
    "plt.legend()\n",
    "plt.show()"
   ]
  },
  {
   "cell_type": "code",
   "execution_count": null,
   "metadata": {},
   "outputs": [],
   "source": [
    "N = 1000\n",
    "d =2\n",
    "h_1 = Hamiltonian(d,N,onsite(mu=0*t),offsite(delta=Delta))\n",
    "h_2 = Hamiltonian(d,N,onsite(mu=1*t),offsite(delta=Delta))\n",
    "U = one_period_propagator([h_1.lattice_hamiltonian(),h_2.lattice_hamiltonian()],0.5)\n",
    "d, V= np.linalg.eig(U)\n",
    "np.isclose( np.diag(d) ,V.conj().T @ U @ V)"
   ]
  },
  {
   "cell_type": "code",
   "execution_count": null,
   "metadata": {},
   "outputs": [],
   "source": [
    "N = 1000\n",
    "d =2\n",
    "h_1 = Hamiltonian(d,N,onsite(mu=0*t),offsite(delta=Delta))\n",
    "h_2 = Hamiltonian(d,N,onsite(mu=1*t),offsite(delta=Delta))\n",
    "U = one_period_propagator([h_1.lattice_hamiltonian(),h_2.lattice_hamiltonian()],0.5)\n",
    "eval, evec= la.eig(U)\n",
    "h_f1 =evec @ np.diag(np.log(eval)*1j/np.pi) @ la.inv(evec)\n",
    "#np.isclose( np.diag(d) ,V.conj().T @ U @ V)"
   ]
  },
  {
   "cell_type": "code",
   "execution_count": null,
   "metadata": {},
   "outputs": [],
   "source": [
    "h_f2 = floquet_hamiltonian([h_1.lattice_hamiltonian(),h_2.lattice_hamiltonian()],0.5)"
   ]
  },
  {
   "cell_type": "code",
   "execution_count": null,
   "metadata": {},
   "outputs": [],
   "source": [
    "np.testing.assert_allclose(h_f1,h_f2,atol=1e-8,rtol=1e-5)\n"
   ]
  },
  {
   "cell_type": "code",
   "execution_count": null,
   "metadata": {},
   "outputs": [],
   "source": [
    "np.isclose(h_f1,h_f2)"
   ]
  },
  {
   "cell_type": "code",
   "execution_count": null,
   "metadata": {},
   "outputs": [],
   "source": []
  }
 ],
 "metadata": {
  "kernelspec": {
   "display_name": "Python 3.10.8 64-bit (microsoft store)",
   "language": "python",
   "name": "python3"
  },
  "language_info": {
   "codemirror_mode": {
    "name": "ipython",
    "version": 3
   },
   "file_extension": ".py",
   "mimetype": "text/x-python",
   "name": "python",
   "nbconvert_exporter": "python",
   "pygments_lexer": "ipython3",
   "version": "3.10.8"
  },
  "orig_nbformat": 4,
  "vscode": {
   "interpreter": {
    "hash": "f94ff448309d6d04b685ffaa7ac167a496aadd8350a16f42f9593c30ee9a8272"
   }
  }
 },
 "nbformat": 4,
 "nbformat_minor": 2
}
